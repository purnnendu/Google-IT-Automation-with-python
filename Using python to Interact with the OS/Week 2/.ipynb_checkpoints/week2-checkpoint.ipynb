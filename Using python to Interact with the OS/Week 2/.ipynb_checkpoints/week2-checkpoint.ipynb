{
 "cells": [
  {
   "cell_type": "code",
   "execution_count": 25,
   "metadata": {},
   "outputs": [
    {
     "name": "stdout",
     "output_type": "stream",
     "text": [
      "Salesforce Certified Platform Developer I                    (August, 2018)\n",
      "Salesforce Certified Service Cloud Consultant                    (May, 2018)\n",
      "The Web Developer Bootcamp on Udemy                    (February, 2018)\n",
      "Salesforce Certified Platform App Builder                    (December, 2017)\n",
      "Salesforce Certified Administrator                        (November, 2017)\n",
      "Oracle Certified Associate, Java SE 7 Programmer (88%)            (October, 2017)\n",
      "OCA Oracle Database 11g SQL Fundamentals I (96%)                (September, 2017)\n",
      "\n"
     ]
    }
   ],
   "source": [
    "file = open(\"tmp.txt\")\n",
    "#print(file.readline())\n",
    "print(file.read())\n",
    "file.close()"
   ]
  },
  {
   "cell_type": "code",
   "execution_count": 7,
   "metadata": {},
   "outputs": [
    {
     "name": "stdout",
     "output_type": "stream",
     "text": [
      "Salesforce Certified Platform Developer I                    (August, 2018)\n",
      "\n"
     ]
    }
   ],
   "source": [
    "\"\"\"with automatically closes the file\"\"\"\n",
    "with open(\"tmp.txt\") as file:\n",
    "    print(file.readline())"
   ]
  },
  {
   "cell_type": "code",
   "execution_count": 6,
   "metadata": {},
   "outputs": [
    {
     "name": "stdout",
     "output_type": "stream",
     "text": [
      "Salesforce Certified Platform Developer I                    (August, 2018)\n",
      "Salesforce Certified Service Cloud Consultant                    (May, 2018)\n",
      "The Web Developer Bootcamp on Udemy                    (February, 2018)\n",
      "Salesforce Certified Platform App Builder                    (December, 2017)\n",
      "Salesforce Certified Administrator                        (November, 2017)\n",
      "Oracle Certified Associate, Java SE 7 Programmer (88%)            (October, 2017)\n",
      "OCA Oracle Database 11g SQL Fundamentals I (96%)                (September, 2017)\n",
      "\n",
      "\n"
     ]
    }
   ],
   "source": [
    "with open(\"tmp.txt\") as file:\n",
    "    print(file.read())"
   ]
  },
  {
   "cell_type": "code",
   "execution_count": 8,
   "metadata": {},
   "outputs": [
    {
     "name": "stdout",
     "output_type": "stream",
     "text": [
      "SALESFORCE CERTIFIED PLATFORM DEVELOPER I                    (AUGUST, 2018)\n",
      "\n",
      "SALESFORCE CERTIFIED SERVICE CLOUD CONSULTANT                    (MAY, 2018)\n",
      "\n",
      "THE WEB DEVELOPER BOOTCAMP ON UDEMY                    (FEBRUARY, 2018)\n",
      "\n",
      "SALESFORCE CERTIFIED PLATFORM APP BUILDER                    (DECEMBER, 2017)\n",
      "\n",
      "SALESFORCE CERTIFIED ADMINISTRATOR                        (NOVEMBER, 2017)\n",
      "\n",
      "ORACLE CERTIFIED ASSOCIATE, JAVA SE 7 PROGRAMMER (88%)            (OCTOBER, 2017)\n",
      "\n",
      "OCA ORACLE DATABASE 11G SQL FUNDAMENTALS I (96%)                (SEPTEMBER, 2017)\n",
      "\n",
      "\n",
      "\n"
     ]
    }
   ],
   "source": [
    "with open(\"tmp.txt\") as file:\n",
    "    for line in file:\n",
    "        print(line.upper())"
   ]
  },
  {
   "cell_type": "code",
   "execution_count": 9,
   "metadata": {},
   "outputs": [
    {
     "name": "stdout",
     "output_type": "stream",
     "text": [
      "SALESFORCE CERTIFIED PLATFORM DEVELOPER I                    (AUGUST, 2018)\n",
      "SALESFORCE CERTIFIED SERVICE CLOUD CONSULTANT                    (MAY, 2018)\n",
      "THE WEB DEVELOPER BOOTCAMP ON UDEMY                    (FEBRUARY, 2018)\n",
      "SALESFORCE CERTIFIED PLATFORM APP BUILDER                    (DECEMBER, 2017)\n",
      "SALESFORCE CERTIFIED ADMINISTRATOR                        (NOVEMBER, 2017)\n",
      "ORACLE CERTIFIED ASSOCIATE, JAVA SE 7 PROGRAMMER (88%)            (OCTOBER, 2017)\n",
      "OCA ORACLE DATABASE 11G SQL FUNDAMENTALS I (96%)                (SEPTEMBER, 2017)\n",
      "\n"
     ]
    }
   ],
   "source": [
    "with open(\"tmp.txt\") as file:\n",
    "    for line in file:\n",
    "        print(line.strip().upper())"
   ]
  },
  {
   "cell_type": "code",
   "execution_count": 21,
   "metadata": {},
   "outputs": [
    {
     "name": "stdout",
     "output_type": "stream",
     "text": [
      "Salesforce Certified Platform Developer I                    (August, 2018)\n",
      "\n"
     ]
    }
   ],
   "source": [
    "\"\"\"Stupid example Readline will read only one line and store as string & lines cannot be sorted\"\"\"\n",
    "lines = []\n",
    "file = open(\"tmp.txt\")\n",
    "lines = file.readline()\n",
    "file.close()\n",
    "#lines.sort()\n",
    "print(lines)"
   ]
  },
  {
   "cell_type": "code",
   "execution_count": 30,
   "metadata": {},
   "outputs": [
    {
     "data": {
      "text/plain": [
       "'Practice test : text files already done'"
      ]
     },
     "execution_count": 30,
     "metadata": {},
     "output_type": "execute_result"
    }
   ],
   "source": [
    "with open(\"tmp1.txt\", 'x') as file:\n",
    "   file.write(\"This is new\")\n",
    "\n",
    "\"\"\" Character : Meaning\n",
    "    'r'       : open for reading (default)\n",
    "    'w'       : open for writing, truncating the file first\n",
    "    'x'       : open for exclusive creation, failing if the file already exists\n",
    "    'a'       : open for writing, appending to the end of the file if it exists\n",
    "    'b'       : binary mode\n",
    "    't'       : text mode (default)\n",
    "    '+'       : open for updating (reading and writing)\"\"\"\n",
    "\n",
    "\"\"\"Practice test : text files already done\"\"\""
   ]
  },
  {
   "cell_type": "code",
   "execution_count": 29,
   "metadata": {},
   "outputs": [],
   "source": [
    "\"\"\"Will delete the file\"\"\"\n",
    "import os\n",
    "os.remove(\"tmp1.txt\")"
   ]
  },
  {
   "cell_type": "code",
   "execution_count": 31,
   "metadata": {},
   "outputs": [],
   "source": [
    "os.rename(\"tmp1.txt\", \"temp1.txt\")"
   ]
  },
  {
   "cell_type": "code",
   "execution_count": 34,
   "metadata": {},
   "outputs": [
    {
     "data": {
      "text/plain": [
       "True"
      ]
     },
     "execution_count": 34,
     "metadata": {},
     "output_type": "execute_result"
    }
   ],
   "source": [
    "os.path.exists(\"temp1.txt\")"
   ]
  },
  {
   "cell_type": "code",
   "execution_count": 33,
   "metadata": {},
   "outputs": [
    {
     "data": {
      "text/plain": [
       "False"
      ]
     },
     "execution_count": 33,
     "metadata": {},
     "output_type": "execute_result"
    }
   ],
   "source": [
    "os.path.exists(\"tmp1.txt\")"
   ]
  },
  {
   "cell_type": "code",
   "execution_count": 35,
   "metadata": {},
   "outputs": [
    {
     "data": {
      "text/plain": [
       "11"
      ]
     },
     "execution_count": 35,
     "metadata": {},
     "output_type": "execute_result"
    }
   ],
   "source": [
    "os.path.getsize(\"temp1.txt\") \"\"\" Return the file size in bytes \"\"\""
   ]
  },
  {
   "cell_type": "code",
   "execution_count": 36,
   "metadata": {},
   "outputs": [
    {
     "data": {
      "text/plain": [
       "1582723582.125514"
      ]
     },
     "execution_count": 36,
     "metadata": {},
     "output_type": "execute_result"
    }
   ],
   "source": [
    "os.path.getmtime(\"temp1.txt\")"
   ]
  },
  {
   "cell_type": "code",
   "execution_count": 37,
   "metadata": {},
   "outputs": [
    {
     "data": {
      "text/plain": [
       "datetime.datetime(2020, 2, 26, 18, 56, 22, 125514)"
      ]
     },
     "execution_count": 37,
     "metadata": {},
     "output_type": "execute_result"
    }
   ],
   "source": [
    "import datetime\n",
    "timestamp = os.path.getmtime(\"temp1.txt\")\n",
    "datetime.datetime.fromtimestamp(timestamp)"
   ]
  },
  {
   "cell_type": "code",
   "execution_count": 38,
   "metadata": {},
   "outputs": [
    {
     "data": {
      "text/plain": [
       "'/Users/purnnendunp/tmp1.txt'"
      ]
     },
     "execution_count": 38,
     "metadata": {},
     "output_type": "execute_result"
    }
   ],
   "source": [
    "os.path.abspath(\"tmp1.txt\")"
   ]
  },
  {
   "cell_type": "code",
   "execution_count": 41,
   "metadata": {},
   "outputs": [
    {
     "name": "stdout",
     "output_type": "stream",
     "text": [
      "/Users/purnnendunp/new dir\n"
     ]
    }
   ],
   "source": [
    "print(os.getcwd())"
   ]
  },
  {
   "cell_type": "code",
   "execution_count": 40,
   "metadata": {},
   "outputs": [
    {
     "name": "stdout",
     "output_type": "stream",
     "text": [
      "/Users/purnnendunp/new dir\n"
     ]
    }
   ],
   "source": [
    "os.mkdir(\"new dir\")\n",
    "os.chdir(\"new dir\")\n",
    "print(os.getcwd())"
   ]
  },
  {
   "cell_type": "code",
   "execution_count": 49,
   "metadata": {},
   "outputs": [
    {
     "name": "stdout",
     "output_type": "stream",
     "text": [
      "/Users/purnnendunp\n"
     ]
    }
   ],
   "source": [
    "\"\"\" will create a dir \"\"\"\n",
    "os.mkdir(\"n1\") \n",
    "\"\"\" Will deete the dir if it exists and empty \"\"\"\n",
    "os.rmdir(\"n1\") \n",
    "os.chdir(\"/Users/purnnendunp/\")\n",
    "print(os.getcwd())"
   ]
  },
  {
   "cell_type": "code",
   "execution_count": 50,
   "metadata": {},
   "outputs": [
    {
     "data": {
      "text/plain": [
       "['.DS_Store', 'n1', 'coursera.txt']"
      ]
     },
     "execution_count": 50,
     "metadata": {},
     "output_type": "execute_result"
    }
   ],
   "source": [
    "os.listdir(\"new dir\")"
   ]
  },
  {
   "cell_type": "code",
   "execution_count": 51,
   "metadata": {},
   "outputs": [
    {
     "name": "stdout",
     "output_type": "stream",
     "text": [
      "new dir/.DS_Store is a file\n",
      "new dir/n1 is a directory\n",
      "new dir/coursera.txt is a file\n"
     ]
    }
   ],
   "source": [
    "dir = \"new dir\"\n",
    "for name in os.listdir(dir):\n",
    "    fullname = os.path.join(dir, name)\n",
    "    if os.path.isdir(fullname):\n",
    "        print(\"{} is a directory\".format(fullname))\n",
    "    else:\n",
    "        print(\"{} is a file\".format(fullname))"
   ]
  },
  {
   "cell_type": "code",
   "execution_count": null,
   "metadata": {},
   "outputs": [],
   "source": [
    "#!usr/bin/env python3\n",
    "\"\"\" Model 2 graded answer \"\"\"\n",
    "\n",
    "import csv\n",
    "\n",
    "def read_employees(csv_file_location):\n",
    "    employee_file = csv.DictReader(open(csv_file_location), dialect = 'empDialect')\n",
    "    employee_list = {}\n",
    "    for data in employee_file:\n",
    "        employee_list.append(data)\n",
    "    return employee_list\n",
    "\n",
    "employee_list = read_employees(\"/home/username/data/employees.csv\")\n",
    "print(employee_list)\n",
    "\n",
    "def process_data(employee_list):\n",
    "    department_list = []\n",
    "    for employee_data in employee_list:\n",
    "        department_list.append(employee_data['Department'])\n",
    "    \n",
    "    department_data = {}\n",
    "    for department_name in set(employee_list):\n",
    "        department_data[department_name] = \n",
    "    department_list.count(department_name)\n",
    "    return department_data\n",
    "\n",
    "dictionary = process_data(employee_list)\n",
    "print(dictionary)\n",
    "\n",
    "def write_report(dictionary, report_file):\n",
    "    with open(report_file, \"w+\") as f:\n",
    "        for k in sorted(dictionary):\n",
    "            f.write(str(k)+\":\"+str(dictionary[k]+'\\n'))\n",
    "           f.close() \n",
    "           \n",
    "write_report((dictionary,\"/home/username/data/report.txt\" ))"
   ]
  },
  {
   "cell_type": "code",
   "execution_count": 57,
   "metadata": {},
   "outputs": [
    {
     "name": "stdout",
     "output_type": "stream",
     "text": [
      "Name: Sabrina Green, Phone: 802-867-5309, Role: System Administrator\n",
      "Name: Eli Jones, Phone: 684-7864533, Role: IT Specialist\n",
      "Name: Melody Daniels, Phone: 845-474-8453, Role: Programmer\n",
      "Name: Charlie Parks, Phone: 874-360-2743, Role: Web Developer\n"
     ]
    }
   ],
   "source": [
    "import csv\n",
    "#with open(\"csv_file.txt\", \"r\") as csv:\n",
    "f = open(\"csv_file.txt\", \"r\")\n",
    "l = csv.reader(f)\n",
    "\n",
    "for row in l:\n",
    "    name, phone, role = row\n",
    "    print(\"Name: {}, Phone: {}, Role: {}\".format(name, phone, role))\n",
    "    \n",
    "f.close()"
   ]
  },
  {
   "cell_type": "code",
   "execution_count": 61,
   "metadata": {},
   "outputs": [],
   "source": [
    "hosts = [[\"workstation.local\", \"233.14.43.12\"], [\"webserver.cloud\", \"232.43.5.33\"]]\n",
    "with open(\"hosts.csv\", \"w\") as host_csv:\n",
    "    writer = csv.writer(host_csv)\n",
    "    writer.writerows(hosts)\n",
    "\"\"\" Writes the data from list of list to csv file\"\"\""
   ]
  },
  {
   "cell_type": "code",
   "execution_count": 75,
   "metadata": {},
   "outputs": [
    {
     "name": "stdout",
     "output_type": "stream",
     "text": [
      "Mailtree has 324 users.\n",
      "Caldoor has 23 users.\n",
      "Chatty Chicken has 5 users.\n"
     ]
    }
   ],
   "source": [
    "with open(\"Software.csv\") as csv_file:\n",
    "    reader = csv.DictReader(csv_file)\n",
    "    for row in reader:\n",
    "        print((\"{} has {} users.\").format(row[\"Name\\n\"], row[\"Users\"]))\n",
    "        #print(row.keys()) will give the keys of the csv file"
   ]
  },
  {
   "cell_type": "code",
   "execution_count": 81,
   "metadata": {},
   "outputs": [],
   "source": [
    "users = [{\"name\": \"Sol Mansi\", \"username\": \"solm\", \"department\": \"IT Infrastructure\"}, \n",
    "         {\"name\": \"Lio Nelson\", \"username\": \"lion\", \"department\": \"UX research\"}, \n",
    "         {\"name\": \"Charlie Grey\", \"username\": \"greyc\", \"department\": \"Development\"}]\n",
    "\n",
    "keys = [\"name\", \"username\", \"department\"]\n",
    "with open(\"by department.csv\", \"w\") as by_department:\n",
    "    writer = csv.DictWriter(by_department, fieldnames = keys)\n",
    "    writer.writeheader() \"\"\" Writes the keys as column names\"\"\"\n",
    "    writer.writerows(users)\n",
    "    "
   ]
  }
 ],
 "metadata": {
  "kernelspec": {
   "display_name": "Python 3",
   "language": "python",
   "name": "python3"
  },
  "language_info": {
   "codemirror_mode": {
    "name": "ipython",
    "version": 3
   },
   "file_extension": ".py",
   "mimetype": "text/x-python",
   "name": "python",
   "nbconvert_exporter": "python",
   "pygments_lexer": "ipython3",
   "version": "3.7.1"
  }
 },
 "nbformat": 4,
 "nbformat_minor": 4
}
