{
 "cells": [
  {
   "cell_type": "code",
   "execution_count": 1,
   "metadata": {},
   "outputs": [],
   "source": [
    "import arrow"
   ]
  },
  {
   "cell_type": "code",
   "execution_count": 2,
   "metadata": {},
   "outputs": [
    {
     "data": {
      "text/plain": [
       "'Mar 04 2020'"
      ]
     },
     "execution_count": 2,
     "metadata": {},
     "output_type": "execute_result"
    }
   ],
   "source": [
    "date = arrow.get(\"2020 - 02 - 26\", \"YYYY - MM - DD\")\n",
    "date.shift(weeks=+1).format(\"MMM DD YYYY\")"
   ]
  },
  {
   "cell_type": "code",
   "execution_count": 3,
   "metadata": {},
   "outputs": [
    {
     "data": {
      "text/plain": [
       "'Mar 26 2020'"
      ]
     },
     "execution_count": 3,
     "metadata": {},
     "output_type": "execute_result"
    }
   ],
   "source": [
    "date.shift(months=+1).format(\"MMM DD YYYY\")"
   ]
  },
  {
   "cell_type": "code",
   "execution_count": 5,
   "metadata": {},
   "outputs": [
    {
     "data": {
      "text/plain": [
       "'hello hello hello hello hello hello hello hello hello hello '"
      ]
     },
     "execution_count": 5,
     "metadata": {},
     "output_type": "execute_result"
    }
   ],
   "source": [
    "\"hello \" * 10"
   ]
  },
  {
   "cell_type": "code",
   "execution_count": 10,
   "metadata": {},
   "outputs": [
    {
     "name": "stdout",
     "output_type": "stream",
     "text": [
      "usage(total=121123069952, used=10829991936, free=51037818880)\n",
      "free space = 42.13715760360585\n"
     ]
    }
   ],
   "source": [
    "import shutil\n",
    "du = shutil.disk_usage('/')\n",
    "print(du)\n",
    "print(\"free space = {}\".format(du.free/du.total * 100))"
   ]
  },
  {
   "cell_type": "code",
   "execution_count": 16,
   "metadata": {},
   "outputs": [
    {
     "data": {
      "text/plain": [
       "21.4"
      ]
     },
     "execution_count": 16,
     "metadata": {},
     "output_type": "execute_result"
    }
   ],
   "source": [
    "import psutil\n",
    "psutil.cpu_percent(0.1)"
   ]
  },
  {
   "cell_type": "code",
   "execution_count": 23,
   "metadata": {},
   "outputs": [
    {
     "name": "stdout",
     "output_type": "stream",
     "text": [
      "Everything is OK\n"
     ]
    }
   ],
   "source": [
    "\"\"\"Health program to check disk usage and cpu usage\"\"\"\n",
    "\n",
    "\"\"\"from network import *\"\"\"\n",
    "\n",
    "def chech_disk_usage(disk):\n",
    "    du = shutil.disk_usage(disk)\n",
    "    free = du.free/du.total * 100\n",
    "    return free > 20\n",
    "\n",
    "def check_cpu_usage():\n",
    "    usage = psutil.cpu_percent(1)\n",
    "    return usage < 75\n",
    "\n",
    "if not chech_disk_usage(\"/\") and not check_cpu_usage():\n",
    "    print(\"ERROR\")\n",
    "elif check_localhost() and check_connectivity():\n",
    "    print(\"Everything is OK\")\n",
    "else:\n",
    "    print(\"Network checks failed\")"
   ]
  },
  {
   "cell_type": "code",
   "execution_count": 22,
   "metadata": {},
   "outputs": [],
   "source": [
    "\"\"\"Network program\"\"\"\n",
    "import socket\n",
    "import requests\n",
    "def check_localhost():\n",
    "    lh = socket.gethostbyname(\"localhost\")\n",
    "    return lh == \"127.0.0.1\"\n",
    "\n",
    "def check_connectivity():\n",
    "    request = requests.get(\"http://www.google.com\")\n",
    "    return request.status_code == 200"
   ]
  }
 ],
 "metadata": {
  "kernelspec": {
   "display_name": "Python 3",
   "language": "python",
   "name": "python3"
  },
  "language_info": {
   "codemirror_mode": {
    "name": "ipython",
    "version": 3
   },
   "file_extension": ".py",
   "mimetype": "text/x-python",
   "name": "python",
   "nbconvert_exporter": "python",
   "pygments_lexer": "ipython3",
   "version": "3.7.1"
  }
 },
 "nbformat": 4,
 "nbformat_minor": 4
}
